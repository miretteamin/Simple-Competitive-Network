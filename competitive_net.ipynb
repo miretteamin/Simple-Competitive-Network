{
 "cells": [
  {
   "attachments": {},
   "cell_type": "markdown",
   "metadata": {},
   "source": [
    "### Prepared By:\n",
    "\n",
    "- Christina Montasser 20190382 S3\n",
    "- Esraa Yazid 20190093 S1\n",
    "- Mariam Ihab 20190801 S1\n",
    "- Mirette Amin 20190570 S3\n",
    "- Nader Atef 20190575 S3\n"
   ]
  },
  {
   "cell_type": "code",
   "execution_count": 27,
   "metadata": {},
   "outputs": [],
   "source": [
    "import opendatasets as od\n",
    "from sklearn.model_selection import StratifiedShuffleSplit, train_test_split\n",
    "import pandas as pd\n",
    "import numpy as np\n",
    "import random\n",
    "from sklearn.decomposition import PCA"
   ]
  },
  {
   "cell_type": "code",
   "execution_count": 51,
   "metadata": {},
   "outputs": [],
   "source": [
    "class PCA:\n",
    "    def __init__(self, n):\n",
    "        self.num_comopnents = n\n",
    "        self.__covMat = 0\n",
    "        self.__eigenVec = 0\n",
    "        self.__eigenVals = 0\n",
    "        self.mean = 0\n",
    "\n",
    "    def fit(self, data):\n",
    "        # rowvar makes meanedData transposed\n",
    "        self.mean = np.mean(data, axis=0)\n",
    "        meanedData = data - self.mean\n",
    "        self.__covMat = np.cov(meanedData, rowvar=False)\n",
    "        self.__eigenVals, self.__eigenVec = np.linalg.eigh(self.__covMat)\n",
    "\n",
    "        # Sort Eigen Vectors and Eigen Values\n",
    "        idx_sorted = np.argsort(self.__eigenVals)[::-1]\n",
    "        self.__eigenVals = self.__eigenVals[idx_sorted]\n",
    "        self.__eigenVec = self.__eigenVec[:, idx_sorted]\n",
    "\n",
    "    def getCovarianceMat(self):\n",
    "        return self.__covMat\n",
    "\n",
    "    def getEigenVectors(self):\n",
    "        return self.getEigenVectors\n",
    "\n",
    "    def getEigenVals(self):\n",
    "        return self.getEigenVals\n",
    "\n",
    "    def transform(self, data):\n",
    "        subset = self.__eigenVec[:, 0 : self.num_comopnents]\n",
    "        meanedData = data - self.mean\n",
    "        reduced = np.dot(subset.transpose(), meanedData.transpose()).transpose()\n",
    "        return reduced\n",
    "\n",
    "    def fit_transform(self, data):\n",
    "        self.fit(data)\n",
    "        res = self.transform(data)\n",
    "        return res"
   ]
  },
  {
   "cell_type": "code",
   "execution_count": 21,
   "metadata": {},
   "outputs": [],
   "source": [
    "df = pd.read_csv(\"smoke_detection_iot.csv\")\n",
    "df.drop([\"Unnamed: 0\", \"UTC\"], axis=1, inplace=True)\n",
    "y = df.pop(\"Fire Alarm\").to_numpy()\n",
    "X = df\n",
    "\n",
    "# Splitting Data\n",
    "X_train, X_test, _, _ = train_test_split(X, y, test_size=0.3, shuffle=True)"
   ]
  },
  {
   "cell_type": "code",
   "execution_count": 22,
   "metadata": {},
   "outputs": [
    {
     "data": {
      "text/html": [
       "<div>\n",
       "<style scoped>\n",
       "    .dataframe tbody tr th:only-of-type {\n",
       "        vertical-align: middle;\n",
       "    }\n",
       "\n",
       "    .dataframe tbody tr th {\n",
       "        vertical-align: top;\n",
       "    }\n",
       "\n",
       "    .dataframe thead th {\n",
       "        text-align: right;\n",
       "    }\n",
       "</style>\n",
       "<table border=\"1\" class=\"dataframe\">\n",
       "  <thead>\n",
       "    <tr style=\"text-align: right;\">\n",
       "      <th></th>\n",
       "      <th>Temperature[C]</th>\n",
       "      <th>Humidity[%]</th>\n",
       "      <th>TVOC[ppb]</th>\n",
       "      <th>eCO2[ppm]</th>\n",
       "      <th>Raw H2</th>\n",
       "      <th>Raw Ethanol</th>\n",
       "      <th>Pressure[hPa]</th>\n",
       "      <th>PM1.0</th>\n",
       "      <th>PM2.5</th>\n",
       "      <th>NC0.5</th>\n",
       "      <th>NC1.0</th>\n",
       "      <th>NC2.5</th>\n",
       "      <th>CNT</th>\n",
       "    </tr>\n",
       "  </thead>\n",
       "  <tbody>\n",
       "    <tr>\n",
       "      <th>0</th>\n",
       "      <td>20.000</td>\n",
       "      <td>57.36</td>\n",
       "      <td>0</td>\n",
       "      <td>400</td>\n",
       "      <td>12306</td>\n",
       "      <td>18520</td>\n",
       "      <td>939.735</td>\n",
       "      <td>0.0</td>\n",
       "      <td>0.0</td>\n",
       "      <td>0.0</td>\n",
       "      <td>0.0</td>\n",
       "      <td>0.0</td>\n",
       "      <td>0</td>\n",
       "    </tr>\n",
       "    <tr>\n",
       "      <th>1</th>\n",
       "      <td>20.015</td>\n",
       "      <td>56.67</td>\n",
       "      <td>0</td>\n",
       "      <td>400</td>\n",
       "      <td>12345</td>\n",
       "      <td>18651</td>\n",
       "      <td>939.744</td>\n",
       "      <td>0.0</td>\n",
       "      <td>0.0</td>\n",
       "      <td>0.0</td>\n",
       "      <td>0.0</td>\n",
       "      <td>0.0</td>\n",
       "      <td>1</td>\n",
       "    </tr>\n",
       "    <tr>\n",
       "      <th>2</th>\n",
       "      <td>20.029</td>\n",
       "      <td>55.96</td>\n",
       "      <td>0</td>\n",
       "      <td>400</td>\n",
       "      <td>12374</td>\n",
       "      <td>18764</td>\n",
       "      <td>939.738</td>\n",
       "      <td>0.0</td>\n",
       "      <td>0.0</td>\n",
       "      <td>0.0</td>\n",
       "      <td>0.0</td>\n",
       "      <td>0.0</td>\n",
       "      <td>2</td>\n",
       "    </tr>\n",
       "    <tr>\n",
       "      <th>3</th>\n",
       "      <td>20.044</td>\n",
       "      <td>55.28</td>\n",
       "      <td>0</td>\n",
       "      <td>400</td>\n",
       "      <td>12390</td>\n",
       "      <td>18849</td>\n",
       "      <td>939.736</td>\n",
       "      <td>0.0</td>\n",
       "      <td>0.0</td>\n",
       "      <td>0.0</td>\n",
       "      <td>0.0</td>\n",
       "      <td>0.0</td>\n",
       "      <td>3</td>\n",
       "    </tr>\n",
       "    <tr>\n",
       "      <th>4</th>\n",
       "      <td>20.059</td>\n",
       "      <td>54.69</td>\n",
       "      <td>0</td>\n",
       "      <td>400</td>\n",
       "      <td>12403</td>\n",
       "      <td>18921</td>\n",
       "      <td>939.744</td>\n",
       "      <td>0.0</td>\n",
       "      <td>0.0</td>\n",
       "      <td>0.0</td>\n",
       "      <td>0.0</td>\n",
       "      <td>0.0</td>\n",
       "      <td>4</td>\n",
       "    </tr>\n",
       "  </tbody>\n",
       "</table>\n",
       "</div>"
      ],
      "text/plain": [
       "   Temperature[C]  Humidity[%]  TVOC[ppb]  eCO2[ppm]  Raw H2  Raw Ethanol  \\\n",
       "0          20.000        57.36          0        400   12306        18520   \n",
       "1          20.015        56.67          0        400   12345        18651   \n",
       "2          20.029        55.96          0        400   12374        18764   \n",
       "3          20.044        55.28          0        400   12390        18849   \n",
       "4          20.059        54.69          0        400   12403        18921   \n",
       "\n",
       "   Pressure[hPa]  PM1.0  PM2.5  NC0.5  NC1.0  NC2.5  CNT  \n",
       "0        939.735    0.0    0.0    0.0    0.0    0.0    0  \n",
       "1        939.744    0.0    0.0    0.0    0.0    0.0    1  \n",
       "2        939.738    0.0    0.0    0.0    0.0    0.0    2  \n",
       "3        939.736    0.0    0.0    0.0    0.0    0.0    3  \n",
       "4        939.744    0.0    0.0    0.0    0.0    0.0    4  "
      ]
     },
     "execution_count": 22,
     "metadata": {},
     "output_type": "execute_result"
    }
   ],
   "source": [
    "df.head()\n"
   ]
  },
  {
   "cell_type": "code",
   "execution_count": 49,
   "metadata": {},
   "outputs": [],
   "source": [
    "pca = PCA(5)\n",
    "train = pca.fit_transform(X_train)\n",
    "test = pca.transform(X_test)\n"
   ]
  },
  {
   "cell_type": "code",
   "execution_count": 50,
   "metadata": {},
   "outputs": [
    {
     "data": {
      "text/plain": [
       "(43841, 5)"
      ]
     },
     "execution_count": 50,
     "metadata": {},
     "output_type": "execute_result"
    }
   ],
   "source": [
    "train.shape\n"
   ]
  }
 ],
 "metadata": {
  "kernelspec": {
   "display_name": "uni",
   "language": "python",
   "name": "python3"
  },
  "language_info": {
   "codemirror_mode": {
    "name": "ipython",
    "version": 3
   },
   "file_extension": ".py",
   "mimetype": "text/x-python",
   "name": "python",
   "nbconvert_exporter": "python",
   "pygments_lexer": "ipython3",
   "version": "3.8.13"
  },
  "orig_nbformat": 4,
  "vscode": {
   "interpreter": {
    "hash": "93496951c11c972fc010a22e53e56ecd57bf18cf86d4dfe7f8b7b9c31b0ee253"
   }
  }
 },
 "nbformat": 4,
 "nbformat_minor": 2
}
